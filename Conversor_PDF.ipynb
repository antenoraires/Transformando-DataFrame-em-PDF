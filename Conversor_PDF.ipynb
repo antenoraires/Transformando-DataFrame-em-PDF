{
 "cells": [
  {
   "cell_type": "markdown",
   "metadata": {},
   "source": [
    "# Com"
   ]
  },
  {
   "cell_type": "code",
   "execution_count": null,
   "metadata": {},
   "outputs": [],
   "source": [
    "# comando para habilitar a converção em PDF\n",
    "!sudo apt-get install wkhtmltopdf\n",
    "!wget -c https://github.com/wkhtmltopdf/wkhtmltopdf/releases/download/0.12.4/wkhtmltox-0.12.4_linux-generic-amd64.tar.xz -O wkhtmltox.tar.xz\n",
    "!tar xf wkhtmltox.tar.xz\n",
    "!sudo mv wkhtmltox/bin/* /usr/local/bin/\n",
    "!rm -Rf wkhtmltox*\n",
    "# Biblioteca para a converção de html  em PDF\n",
    "!pip install pdfkit\n",
    "import pdfkit\n",
    "# Biblioteca para formataçao de html\n",
    "!pip install pretty_html_table\n",
    "from pretty_html_table import build_table"
   ]
  },
  {
   "cell_type": "code",
   "execution_count": null,
   "metadata": {},
   "outputs": [],
   "source": [
    "# Formatando HTML\n",
    "# Documentaçao \"https://pypi.org/project/pretty-html-table/\"\n",
    "def gerador(path):\n",
    "  html_table_blue_light = build_table(path, 'blue_dark')\n",
    "  #Salvando \n",
    "  with open('ultrapassa_teto.html', 'w') as f:\n",
    "      f.write(\"\"\"\n",
    "        <html>\n",
    "          <head>\n",
    "            <body>\n",
    "                  <h1>Formatação de seu HTML</h1>\n",
    "            </body>\n",
    "          </head>\n",
    "        </html>\n",
    "        \"\"\".format(html_table_blue_light))\n",
    "  #Converção pdfkit.from_file('Arquivo HTML ou Site', 'Arquivo.pdf') \n",
    "  pdfkit.from_file('ultrapassa_teto.html','ultrapassa_teto.pdf')\n",
    "\n",
    "gerador(#Dataframe)"
   ]
  }
 ],
 "metadata": {
  "kernelspec": {
   "display_name": "Python 3",
   "language": "python",
   "name": "python3"
  },
  "language_info": {
   "codemirror_mode": {
    "name": "ipython",
    "version": 3
   },
   "file_extension": ".py",
   "mimetype": "text/x-python",
   "name": "python",
   "nbconvert_exporter": "python",
   "pygments_lexer": "ipython3",
   "version": "3.7.1"
  }
 },
 "nbformat": 4,
 "nbformat_minor": 2
}
